{
 "cells": [
  {
   "cell_type": "code",
   "execution_count": null,
   "id": "b5ab27f7-5335-454b-adf0-e5497754524f",
   "metadata": {},
   "outputs": [],
   "source": [
    "##change"
   ]
  },
  {
   "cell_type": "code",
   "execution_count": null,
   "id": "0548b23f-e2ad-4d7e-a499-054e1fedf450",
   "metadata": {},
   "outputs": [],
   "source": [
    "##change3Ihsan"
   ]
  },
  {
   "cell_type": "code",
   "execution_count": null,
   "id": "4fcb1646-0b40-4e9c-9c13-3707b08e65da",
   "metadata": {},
   "outputs": [],
   "source": [
    "##change2Camila"
   ]
  }
 ],
 "metadata": {
  "kernelspec": {
   "display_name": "Python 3 (ipykernel)",
   "language": "python",
   "name": "python3"
  },
  "language_info": {
   "codemirror_mode": {
    "name": "ipython",
    "version": 3
   },
   "file_extension": ".py",
   "mimetype": "text/x-python",
   "name": "python",
   "nbconvert_exporter": "python",
   "pygments_lexer": "ipython3",
   "version": "3.12.4"
  }
 },
 "nbformat": 4,
 "nbformat_minor": 5
}
